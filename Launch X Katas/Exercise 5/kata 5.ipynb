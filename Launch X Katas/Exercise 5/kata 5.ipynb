{
 "cells": [
  {
   "cell_type": "markdown",
   "metadata": {},
   "source": [
    "## Exercise I ##"
   ]
  },
  {
   "cell_type": "code",
   "execution_count": 25,
   "metadata": {},
   "outputs": [
    {
     "name": "stdout",
     "output_type": "stream",
     "text": [
      "Distance By Planets In Km Or M \n",
      "-------------------------------------------------------------------------------- \n",
      "Planet Name: earth \n",
      "distance 149597870 Km \n",
      "facts: More water \n",
      "\n",
      "Planet Name: jupiter\n",
      "distance 778547200 m\n",
      "facts: More cold\n",
      " \n",
      "\n",
      "628949330 km \n",
      "390577533.93  m \n",
      "\n",
      "Finale distance : In km or M\n",
      "-------------------------------------------------------------------------------\n",
      "Distance in Km : 628949330\n",
      "Distance in M : 390577533.93\n",
      "\n"
     ]
    }
   ],
   "source": [
    "earth = 149597870\n",
    "jupiter = 778547200\n",
    "name= \"In km or M\"\n",
    "\n",
    "title = f'Distance by Planets {name}'\n",
    "\n",
    "facts = f\"\"\"{'-'*80} \n",
    "Planet Name: earth \n",
    "distance {str(earth)+\" Km\"} \n",
    "facts: More water \n",
    "\n",
    "Planet Name: jupiter\n",
    "distance {str(jupiter)+\" m\"}\n",
    "facts: More cold\n",
    "\"\"\"\n",
    "\n",
    "facts = f\"\"\"{title.title()} \n",
    "{facts} \n",
    "\"\"\" \n",
    "print(facts)\n",
    "\n",
    "\n",
    "new_template =\"\"\"\n",
    "Finale distance : {name}\n",
    "-------------------------------------------------------------------------------\n",
    "Distance in Km : {distance_km}\n",
    "Distance in M : {miles}\n",
    "\"\"\"\n",
    "\n",
    "distance_km=jupiter-earth\n",
    "miles= distance_km*0.621\n",
    "print(str(distance_km) +\" km \")\n",
    "print(str(miles) +\"  m \")\n",
    "\n",
    "print(new_template.format(name=name, distance_km=distance_km, miles=miles))\n",
    "\n",
    "\n",
    "\n",
    "\n",
    "\n",
    "\n",
    "\n",
    "\n"
   ]
  },
  {
   "cell_type": "markdown",
   "metadata": {},
   "source": [
    "## Exeercise II ##\n"
   ]
  },
  {
   "cell_type": "code",
   "execution_count": null,
   "metadata": {},
   "outputs": [],
   "source": [
    "# Users will put there own facts\n",
    "first_planet = input('Introduzca la distancia del sol para el primer planeta en KM')\n",
    "second_planet = input('Introduzca la distancia desde el sol para el segundo planeta en KM')\n",
    "# change strings facts to number facts \n",
    "first_planet = int(first_planet)\n",
    "second_planet = int(second_planet)\n",
    "\n",
    "distance_km = second_planet - first_planet\n",
    "print(distance_km)\n",
    "\n",
    "distance_mi = distance_km * 0.621\n",
    "print(abs(distance_mi))\n",
    "\n"
   ]
  },
  {
   "cell_type": "code",
   "execution_count": null,
   "metadata": {},
   "outputs": [],
   "source": []
  }
 ],
 "metadata": {
  "interpreter": {
   "hash": "4eaf1be304415beee96765ae99c3f893cc8312c7f1196698e6029668e9aeb3e5"
  },
  "kernelspec": {
   "display_name": "Python 3.10.2 64-bit",
   "language": "python",
   "name": "python3"
  },
  "language_info": {
   "codemirror_mode": {
    "name": "ipython",
    "version": 3
   },
   "file_extension": ".py",
   "mimetype": "text/x-python",
   "name": "python",
   "nbconvert_exporter": "python",
   "pygments_lexer": "ipython3",
   "version": "3.10.2"
  },
  "orig_nbformat": 4
 },
 "nbformat": 4,
 "nbformat_minor": 2
}
