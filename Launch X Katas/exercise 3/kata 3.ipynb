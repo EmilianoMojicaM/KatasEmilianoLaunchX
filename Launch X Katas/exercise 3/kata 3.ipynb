{
 "cells": [
  {
   "cell_type": "markdown",
   "metadata": {},
   "source": [
    "ASTEROID \n",
    "\n",
    "CODE 1"
   ]
  },
  {
   "cell_type": "code",
   "execution_count": 6,
   "metadata": {},
   "outputs": [
    {
     "name": "stdout",
     "output_type": "stream",
     "text": [
      "Danger!...Aesteroid Detected !\n"
     ]
    }
   ],
   "source": [
    "asteroid=49\n",
    "\n",
    "if asteroid>25:\n",
    "    print(\"Danger!...Aesteroid Detected !\")\n",
    "\n",
    "else:\n",
    "    print(\" ¡ Searching anomalies ! \")\n"
   ]
  },
  {
   "cell_type": "markdown",
   "metadata": {},
   "source": [
    "CODE 2"
   ]
  },
  {
   "cell_type": "code",
   "execution_count": 8,
   "metadata": {},
   "outputs": [
    {
     "name": "stdout",
     "output_type": "stream",
     "text": [
      "Searching anomalies !\n"
     ]
    }
   ],
   "source": [
    "asteroid1=19\n",
    "if asteroid1>=20:\n",
    "    print(\"Danger!...Aesteroid arriving !\")\n",
    "    print(\" Look the light ray in the sky!\")\n",
    "\n",
    "else:\n",
    "    print(\"Searching anomalies !\")"
   ]
  },
  {
   "cell_type": "markdown",
   "metadata": {},
   "source": [
    "AND \n",
    "OR"
   ]
  },
  {
   "cell_type": "code",
   "execution_count": 10,
   "metadata": {},
   "outputs": [
    {
     "name": "stdout",
     "output_type": "stream",
     "text": [
      " Look the light ray in the sky! \n"
     ]
    }
   ],
   "source": [
    "asteroid2=25\n",
    "size_asteroid2=100\n",
    "\n",
    "if asteroid2>25 and size_asteroid2>25:\n",
    "    print(\"DANGER!!\")\n",
    "    print(\" A BIG ASTEROID IS COMING TO THE EARTH!!\")\n",
    "    print(\"DANGER!!\")\n",
    "\n",
    "elif asteroid2 >= 20:\n",
    "    print(\" Look the light ray in the sky! \")\n",
    "\n",
    "elif size_asteroid2<25:\n",
    "    print(\" keep searching !!\")\n",
    "\n",
    "else:\n",
    "    print(\"Searching anomalies !\")\n"
   ]
  }
 ],
 "metadata": {
  "interpreter": {
   "hash": "4eaf1be304415beee96765ae99c3f893cc8312c7f1196698e6029668e9aeb3e5"
  },
  "kernelspec": {
   "display_name": "Python 3.10.2 64-bit",
   "language": "python",
   "name": "python3"
  },
  "language_info": {
   "codemirror_mode": {
    "name": "ipython",
    "version": 3
   },
   "file_extension": ".py",
   "mimetype": "text/x-python",
   "name": "python",
   "nbconvert_exporter": "python",
   "pygments_lexer": "ipython3",
   "version": "3.10.2"
  },
  "orig_nbformat": 4
 },
 "nbformat": 4,
 "nbformat_minor": 2
}
