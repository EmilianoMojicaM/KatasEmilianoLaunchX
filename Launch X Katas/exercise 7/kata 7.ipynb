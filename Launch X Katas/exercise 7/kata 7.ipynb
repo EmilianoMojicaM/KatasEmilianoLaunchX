{
 "cells": [
  {
   "cell_type": "markdown",
   "metadata": {},
   "source": [
    "## Exercise I and II ##"
   ]
  },
  {
   "cell_type": "code",
   "execution_count": 4,
   "metadata": {},
   "outputs": [
    {
     "name": "stdout",
     "output_type": "stream",
     "text": [
      " \n",
      "jupiter\n",
      "venus\n",
      "tierra\n",
      "marte\n",
      "saturno\n",
      "mercurio\n"
     ]
    }
   ],
   "source": [
    "planet_new = \" \"\n",
    "planets = []\n",
    "\n",
    "while planet_new.lower() != 'done':\n",
    "    if planet_new:\n",
    "        planets.append(planet_new)\n",
    "        planet_new = input('Enter a new planet ')\n",
    "\n",
    "for planet in planets:\n",
    "    print(planet)\n"
   ]
  }
 ],
 "metadata": {
  "interpreter": {
   "hash": "4eaf1be304415beee96765ae99c3f893cc8312c7f1196698e6029668e9aeb3e5"
  },
  "kernelspec": {
   "display_name": "Python 3.10.2 64-bit",
   "language": "python",
   "name": "python3"
  },
  "language_info": {
   "codemirror_mode": {
    "name": "ipython",
    "version": 3
   },
   "file_extension": ".py",
   "mimetype": "text/x-python",
   "name": "python",
   "nbconvert_exporter": "python",
   "pygments_lexer": "ipython3",
   "version": "3.10.2"
  },
  "orig_nbformat": 4
 },
 "nbformat": 4,
 "nbformat_minor": 2
}
